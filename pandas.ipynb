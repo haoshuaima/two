{
 "cells": [
  {
   "cell_type": "code",
   "execution_count": 1,
   "id": "f943cf79",
   "metadata": {},
   "outputs": [],
   "source": [
    "import pandas as pd\n",
    "import numpy as np"
   ]
  },
  {
   "cell_type": "code",
   "execution_count": 2,
   "id": "ba75847c",
   "metadata": {},
   "outputs": [
    {
     "name": "stdout",
     "output_type": "stream",
     "text": [
      "3.0\n"
     ]
    }
   ],
   "source": [
    "s = pd.Series([1, 3, 5, np.nan, 6, 8])\n",
    "print(s[1])"
   ]
  },
  {
   "cell_type": "code",
   "execution_count": 3,
   "id": "fcc0236f",
   "metadata": {},
   "outputs": [
    {
     "name": "stdout",
     "output_type": "stream",
     "text": [
      "DatetimeIndex(['2013-01-01', '2013-01-02', '2013-01-03', '2013-01-04',\n",
      "               '2013-01-05', '2013-01-06'],\n",
      "              dtype='datetime64[ns]', freq='D')\n"
     ]
    }
   ],
   "source": [
    "import pandas as pd\n",
    "import numpy as np\n",
    "\n",
    "dates = pd.date_range('20130101', periods=6)\n",
    "print(dates)"
   ]
  },
  {
   "cell_type": "code",
   "execution_count": 4,
   "id": "8d40719f",
   "metadata": {},
   "outputs": [
    {
     "name": "stdout",
     "output_type": "stream",
     "text": [
      "                   A         B         C         D\n",
      "2013-01-01  0.929355  0.049159  0.347982 -0.744986\n",
      "2013-01-02  0.922799 -1.224961  0.500243 -0.098357\n",
      "2013-01-03 -1.005060 -0.489485 -1.144110  1.085494\n",
      "2013-01-04 -0.889447  0.033402 -2.459902  1.176031\n",
      "2013-01-05  0.845318 -0.147381 -0.797909  0.638028\n",
      "2013-01-06 -0.599797  0.624433  0.236310  0.313091\n"
     ]
    }
   ],
   "source": [
    "import pandas as pd\n",
    "import numpy as np\n",
    "\n",
    "dates = pd.date_range('20130101', periods=6)\n",
    "df = pd.DataFrame(np.random.randn(6, 4), index=dates, columns=list('ABCD'))\n",
    "print(df)"
   ]
  },
  {
   "cell_type": "code",
   "execution_count": 5,
   "id": "ceff6dc4",
   "metadata": {},
   "outputs": [
    {
     "name": "stdout",
     "output_type": "stream",
     "text": [
      "     A          B    C  D      E    F\n",
      "0  1.0 2013-01-02  1.0  3   test  foo\n",
      "1  1.0 2013-01-02  1.0  3  train  foo\n",
      "2  1.0 2013-01-02  1.0  3   test  foo\n",
      "3  1.0 2013-01-02  1.0  3  train  foo\n"
     ]
    }
   ],
   "source": [
    "import pandas as pd\n",
    "import numpy as np\n",
    "\n",
    "df2 = pd.DataFrame({'A': 1.,\n",
    "    'B': pd.Timestamp('20130102'),\n",
    "    'C': pd.Series(1, index=list(range(4)), dtype='float32'),\n",
    "    'D': np.array([3] * 4, dtype='int32'),\n",
    "    'E': pd.Categorical([\"test\", \"train\", \"test\", \"train\"]),\n",
    "    'F': 'foo'})\n",
    "    \n",
    "print(df2)"
   ]
  },
  {
   "cell_type": "code",
   "execution_count": 6,
   "id": "8f9bb94f",
   "metadata": {},
   "outputs": [
    {
     "data": {
      "text/plain": [
       "0    1.0\n",
       "1    1.0\n",
       "2    1.0\n",
       "3    1.0\n",
       "Name: C, dtype: float32"
      ]
     },
     "execution_count": 6,
     "metadata": {},
     "output_type": "execute_result"
    }
   ],
   "source": [
    "df2.iloc[:,2]"
   ]
  },
  {
   "cell_type": "code",
   "execution_count": 7,
   "id": "fe45e1aa",
   "metadata": {},
   "outputs": [
    {
     "name": "stdout",
     "output_type": "stream",
     "text": [
      "A           float64\n",
      "B    datetime64[ns]\n",
      "C           float32\n",
      "D             int32\n",
      "E          category\n",
      "F            object\n",
      "dtype: object\n"
     ]
    }
   ],
   "source": [
    "print(df2.dtypes)"
   ]
  },
  {
   "cell_type": "code",
   "execution_count": 8,
   "id": "8e5e95b4",
   "metadata": {},
   "outputs": [
    {
     "data": {
      "text/html": [
       "<div>\n",
       "<style scoped>\n",
       "    .dataframe tbody tr th:only-of-type {\n",
       "        vertical-align: middle;\n",
       "    }\n",
       "\n",
       "    .dataframe tbody tr th {\n",
       "        vertical-align: top;\n",
       "    }\n",
       "\n",
       "    .dataframe thead th {\n",
       "        text-align: right;\n",
       "    }\n",
       "</style>\n",
       "<table border=\"1\" class=\"dataframe\">\n",
       "  <thead>\n",
       "    <tr style=\"text-align: right;\">\n",
       "      <th></th>\n",
       "      <th>A</th>\n",
       "      <th>B</th>\n",
       "      <th>C</th>\n",
       "      <th>D</th>\n",
       "    </tr>\n",
       "  </thead>\n",
       "  <tbody>\n",
       "    <tr>\n",
       "      <th>2013-01-05</th>\n",
       "      <td>0.845318</td>\n",
       "      <td>-0.147381</td>\n",
       "      <td>-0.797909</td>\n",
       "      <td>0.638028</td>\n",
       "    </tr>\n",
       "    <tr>\n",
       "      <th>2013-01-06</th>\n",
       "      <td>-0.599797</td>\n",
       "      <td>0.624433</td>\n",
       "      <td>0.236310</td>\n",
       "      <td>0.313091</td>\n",
       "    </tr>\n",
       "  </tbody>\n",
       "</table>\n",
       "</div>"
      ],
      "text/plain": [
       "                   A         B         C         D\n",
       "2013-01-05  0.845318 -0.147381 -0.797909  0.638028\n",
       "2013-01-06 -0.599797  0.624433  0.236310  0.313091"
      ]
     },
     "execution_count": 8,
     "metadata": {},
     "output_type": "execute_result"
    }
   ],
   "source": [
    "df.tail(2)"
   ]
  },
  {
   "cell_type": "code",
   "execution_count": 9,
   "id": "d6c92d48",
   "metadata": {},
   "outputs": [
    {
     "name": "stdout",
     "output_type": "stream",
     "text": [
      "Index(['A', 'B', 'C', 'D'], dtype='object')\n"
     ]
    }
   ],
   "source": [
    "import pandas as pd\n",
    "import numpy as np\n",
    "\n",
    "dates = pd.date_range('20130101', periods=6)\n",
    "df = pd.DataFrame(np.random.randn(6, 4), index=dates, columns=list('ABCD'))\n",
    "print(df.columns)"
   ]
  },
  {
   "cell_type": "code",
   "execution_count": 10,
   "id": "bb061fa7",
   "metadata": {},
   "outputs": [
    {
     "name": "stdout",
     "output_type": "stream",
     "text": [
      "                   A         B         C         D\n",
      "2013-01-01 -1.769849 -0.395741 -1.181242 -1.409409\n",
      "2013-01-02  0.755608 -1.432950 -0.039388 -1.252611\n",
      "2013-01-03  0.365710  1.050940 -1.045043  0.468469\n",
      "2013-01-04  0.612317  1.505311  1.077740  0.545304\n",
      "2013-01-05 -0.425790  0.037018 -0.238940  0.770961\n",
      "2013-01-06 -0.861368 -1.186336 -0.911050  1.521263\n",
      "[[-1.76984936 -0.39574066 -1.18124173 -1.40940876]\n",
      " [ 0.75560812 -1.43295009 -0.03938806 -1.25261054]\n",
      " [ 0.36571028  1.05094019 -1.04504267  0.46846912]\n",
      " [ 0.61231715  1.50531098  1.07773958  0.54530444]\n",
      " [-0.42579032  0.03701762 -0.23894019  0.77096149]\n",
      " [-0.86136768 -1.18633588 -0.91104984  1.52126282]]\n"
     ]
    }
   ],
   "source": [
    "import pandas as pd\n",
    "import numpy as np\n",
    "\n",
    "dates = pd.date_range('20130101', periods=6)\n",
    "df = pd.DataFrame(np.random.randn(6, 4), index=dates, columns=list('ABCD'))\n",
    "print(df)\n",
    "print(df.to_numpy())"
   ]
  },
  {
   "cell_type": "code",
   "execution_count": 11,
   "id": "53d076bb",
   "metadata": {},
   "outputs": [
    {
     "name": "stdout",
     "output_type": "stream",
     "text": [
      "[['1' '2' '3']\n",
      " ['a' 'a' 'c']\n",
      " ['7' '8' '9']]\n"
     ]
    }
   ],
   "source": [
    "array_2d = np.array([[1, 2, 3], ['a', 'a', 'c'], [7, 8, 9]])\n",
    "print(array_2d)"
   ]
  },
  {
   "cell_type": "code",
   "execution_count": 12,
   "id": "bf51c35a",
   "metadata": {},
   "outputs": [
    {
     "name": "stdout",
     "output_type": "stream",
     "text": [
      "0.004139938696695103\n",
      "0.7053453854230027\n"
     ]
    }
   ],
   "source": [
    "import pandas as pd\n",
    "import numpy as np\n",
    "\n",
    "dates = pd.date_range('20130101', periods=6)\n",
    "df = pd.DataFrame(np.random.randn(6, 4), index=dates, columns=list('ABCD'))\n",
    "\n",
    "print(df.iloc[:,1].mean())\n",
    "print(df['A'].std())"
   ]
  },
  {
   "cell_type": "code",
   "execution_count": 13,
   "id": "dfdb6a52",
   "metadata": {},
   "outputs": [
    {
     "name": "stdout",
     "output_type": "stream",
     "text": [
      "                   A         B         C         D\n",
      "2013-01-01  1.243155 -0.657169 -0.753980  0.894890\n",
      "2013-01-02 -0.448058 -0.574338 -1.359591 -1.094038\n",
      "2013-01-03 -0.198169  0.357861 -0.444996  0.254536\n",
      "2013-01-04 -0.551809 -0.419976 -1.247417  1.083573\n",
      "2013-01-05  0.773146  1.317868 -0.696014 -0.595305\n",
      "2013-01-06 -1.648914  0.441211  0.527840  0.263189\n",
      "   2013-01-01  2013-01-02  2013-01-03  2013-01-04  2013-01-05  2013-01-06\n",
      "A    1.243155   -0.448058   -0.198169   -0.551809    0.773146   -1.648914\n",
      "B   -0.657169   -0.574338    0.357861   -0.419976    1.317868    0.441211\n",
      "C   -0.753980   -1.359591   -0.444996   -1.247417   -0.696014    0.527840\n",
      "D    0.894890   -1.094038    0.254536    1.083573   -0.595305    0.263189\n"
     ]
    }
   ],
   "source": [
    "import pandas as pd\n",
    "import numpy as np\n",
    "\n",
    "dates = pd.date_range('20130101', periods=6)\n",
    "df = pd.DataFrame(np.random.randn(6, 4), index=dates, columns=list('ABCD'))\n",
    "print(df)\n",
    "print(df.T)"
   ]
  },
  {
   "cell_type": "code",
   "execution_count": 14,
   "id": "e04147a4",
   "metadata": {},
   "outputs": [
    {
     "name": "stdout",
     "output_type": "stream",
     "text": [
      "                   A         B         C         D\n",
      "2013-01-01 -0.908965 -0.664296  1.088457 -0.686994\n",
      "2013-01-02  0.882534 -0.573298  0.734909 -0.994586\n",
      "2013-01-03 -1.010520 -0.296851  1.022382  0.654163\n",
      "2013-01-04 -0.438101  0.739995 -0.238302  1.097466\n",
      "2013-01-05 -1.152258  0.309696  0.502093 -2.172192\n",
      "2013-01-06  0.123055  0.073955 -0.699032 -1.230721\n",
      "                   A         B         C         D\n",
      "2013-01-06  0.123055  0.073955 -0.699032 -1.230721\n",
      "2013-01-05 -1.152258  0.309696  0.502093 -2.172192\n",
      "2013-01-04 -0.438101  0.739995 -0.238302  1.097466\n",
      "2013-01-03 -1.010520 -0.296851  1.022382  0.654163\n",
      "2013-01-02  0.882534 -0.573298  0.734909 -0.994586\n",
      "2013-01-01 -0.908965 -0.664296  1.088457 -0.686994\n",
      "                   D         C         B         A\n",
      "2013-01-01 -0.686994  1.088457 -0.664296 -0.908965\n",
      "2013-01-02 -0.994586  0.734909 -0.573298  0.882534\n",
      "2013-01-03  0.654163  1.022382 -0.296851 -1.010520\n",
      "2013-01-04  1.097466 -0.238302  0.739995 -0.438101\n",
      "2013-01-05 -2.172192  0.502093  0.309696 -1.152258\n",
      "2013-01-06 -1.230721 -0.699032  0.073955  0.123055\n"
     ]
    }
   ],
   "source": [
    "import pandas as pd\n",
    "import numpy as np\n",
    "\n",
    "dates = pd.date_range('20130101', periods=6)\n",
    "df = pd.DataFrame(np.random.randn(6, 4), index=dates, columns=list('ABCD'))\n",
    "print(df)\n",
    "print(df.sort_index(axis=0,ascending=False))\n",
    "print(df.sort_index(axis=1,ascending=False))"
   ]
  },
  {
   "cell_type": "code",
   "execution_count": 15,
   "id": "1ce25ea0",
   "metadata": {},
   "outputs": [
    {
     "name": "stdout",
     "output_type": "stream",
     "text": [
      "                   A         B         C         D\n",
      "2013-01-06  0.966950 -0.319092  1.272526  0.345282\n",
      "2013-01-03  0.096077 -0.030214 -0.730298 -2.543586\n",
      "2013-01-04 -0.320886  0.286502  0.016111  1.358327\n",
      "2013-01-05  1.189440  0.617958 -0.917430 -0.440540\n",
      "2013-01-01  0.223223  1.088783  0.255373  0.015474\n",
      "2013-01-02 -1.154857  1.209376  0.075362  0.074440\n"
     ]
    }
   ],
   "source": [
    "import pandas as pd\n",
    "import numpy as np\n",
    "\n",
    "dates = pd.date_range('20130101', periods=6)\n",
    "df = pd.DataFrame(np.random.randn(6, 4), index=dates, columns=list('ABCD'))\n",
    "print(df.sort_values(by='B'))"
   ]
  },
  {
   "cell_type": "code",
   "execution_count": 34,
   "id": "5740bd90",
   "metadata": {},
   "outputs": [
    {
     "name": "stdout",
     "output_type": "stream",
     "text": [
      "['A', 'B', 'C', 'D']\n",
      "                   A         B         C         D\n",
      "2013-01-01 -1.415481 -0.237072  0.741797 -1.834228\n",
      "2013-01-02  0.471364 -0.468912  1.472983 -0.047050\n",
      "2013-01-03  0.552305 -0.301603 -1.356597 -1.602822\n",
      "2013-01-04  1.079482 -0.375682  0.308604  0.635737\n",
      "2013-01-05  0.788543  1.087835 -0.151093  0.990019\n",
      "2013-01-06  0.116421  0.343703  1.523547  0.100652\n",
      "                   A         B\n",
      "2013-01-01 -1.415481 -0.237072\n",
      "2013-01-02  0.471364 -0.468912\n",
      "2013-01-03  0.552305 -0.301603\n",
      "2013-01-04  1.079482 -0.375682\n",
      "2013-01-05  0.788543  1.087835\n",
      "2013-01-06  0.116421  0.343703\n"
     ]
    }
   ],
   "source": [
    "import pandas as pd\n",
    "import numpy as np\n",
    "\n",
    "dates = pd.date_range('20130101', periods=6)\n",
    "print(list('ABCD'))\n",
    "df = pd.DataFrame(np.random.randn(6, 4), index=dates, columns=list('ABCD'))\n",
    "print(df)\n",
    "print(df[['A','B']])"
   ]
  },
  {
   "cell_type": "code",
   "execution_count": 23,
   "id": "0b34ab1d",
   "metadata": {},
   "outputs": [
    {
     "name": "stdout",
     "output_type": "stream",
     "text": [
      "a    1\n",
      "b    3\n",
      "c    5\n",
      "d    7\n",
      "e    9\n",
      "dtype: int64\n"
     ]
    }
   ],
   "source": [
    "import pandas as pd\n",
    "\n",
    "# 创建一个 Series，指定自定义索引\n",
    "data = [1, 3, 5, 7, 9]\n",
    "custom_index = ['a', 'b', 'c', 'd', 'e']\n",
    "s = pd.Series(data, index=custom_index)\n",
    "\n",
    "# 打印 Series\n",
    "print(s)\n"
   ]
  },
  {
   "cell_type": "code",
   "execution_count": 36,
   "id": "c88c15e9",
   "metadata": {},
   "outputs": [
    {
     "name": "stdout",
     "output_type": "stream",
     "text": [
      "                   A         B         C         D\n",
      "2013-01-01  2.003139 -0.790490 -1.217610 -0.529998\n",
      "2013-01-02  0.163046 -1.143857 -1.031542  2.132619\n",
      "2013-01-03  0.791178  1.211458  0.935217  0.309789\n",
      "2013-01-04  0.423494  2.022629 -1.337434 -0.515317\n",
      "2013-01-05  0.094350 -1.563637 -0.470881  1.104426\n",
      "2013-01-06 -0.336941  1.154172 -0.584901  0.655437\n",
      "                   A         B         C         D\n",
      "2013-01-01  2.003139 -0.790490 -1.217610 -0.529998\n",
      "2013-01-02  0.163046 -1.143857 -1.031542  2.132619\n",
      "2013-01-03  0.791178  1.211458  0.935217  0.309789\n",
      "                   A         B         C         D\n",
      "2013-01-02  0.163046 -1.143857 -1.031542  2.132619\n",
      "2013-01-03  0.791178  1.211458  0.935217  0.309789\n",
      "2013-01-04  0.423494  2.022629 -1.337434 -0.515317\n"
     ]
    }
   ],
   "source": [
    "import pandas as pd\n",
    "import numpy as np\n",
    "\n",
    "dates = pd.date_range('20130101', periods=6)\n",
    "df = pd.DataFrame(np.random.randn(6, 4), index=dates, columns=list('ABCD'))\n",
    "print(df)\n",
    "print(df[0:3])\n",
    "print(df['20130102':'20130104'])"
   ]
  },
  {
   "cell_type": "code",
   "execution_count": 38,
   "id": "93f078bb",
   "metadata": {},
   "outputs": [
    {
     "name": "stdout",
     "output_type": "stream",
     "text": [
      "                   A         B         C         D\n",
      "2013-01-01 -0.849846  1.053002  1.266273  1.430079\n",
      "2013-01-02 -0.146510  0.845620 -2.399594 -1.719288\n",
      "2013-01-03  0.348975  1.072931 -0.648261 -0.245363\n",
      "2013-01-04  1.488202 -1.638637 -2.756781  0.155028\n",
      "2013-01-05 -1.115967  1.237533 -0.837260  1.377862\n",
      "2013-01-06 -0.056326 -2.474189  1.565977 -0.797959\n",
      "A   -0.849846\n",
      "B    1.053002\n",
      "C    1.266273\n",
      "D    1.430079\n",
      "Name: 2013-01-01 00:00:00, dtype: float64\n"
     ]
    }
   ],
   "source": [
    "import pandas as pd\n",
    "import numpy as np\n",
    "\n",
    "dates = pd.date_range('20130101', periods=6)\n",
    "df = pd.DataFrame(np.random.randn(6, 4), index=dates, columns=list('ABCD'))\n",
    "print(df)\n",
    "print(df.loc[dates[0]])"
   ]
  },
  {
   "cell_type": "code",
   "execution_count": 39,
   "id": "82e6d27b",
   "metadata": {},
   "outputs": [
    {
     "name": "stdout",
     "output_type": "stream",
     "text": [
      "                   A         B\n",
      "2013-01-01 -1.370018 -0.574305\n",
      "2013-01-02  0.706941  0.935660\n",
      "2013-01-03 -0.967871  0.108171\n",
      "2013-01-04  0.294053 -0.146322\n",
      "2013-01-05 -1.772306 -0.998169\n",
      "2013-01-06 -0.556847  0.781103\n"
     ]
    }
   ],
   "source": [
    "import pandas as pd\n",
    "import numpy as np\n",
    "\n",
    "dates = pd.date_range('20130101', periods=6)\n",
    "df = pd.DataFrame(np.random.randn(6, 4), index=dates, columns=list('ABCD'))\n",
    "print(df.loc[:, ['A', 'B']])"
   ]
  },
  {
   "cell_type": "code",
   "execution_count": 42,
   "id": "94526530",
   "metadata": {},
   "outputs": [
    {
     "name": "stdout",
     "output_type": "stream",
     "text": [
      "                   A         B         C         D\n",
      "2013-01-01  0.054293  1.078311  1.443427  0.303122\n",
      "2013-01-02 -0.188155  0.328037  0.647265 -0.330420\n",
      "2013-01-03 -1.306959  0.872586  0.896142  1.301487\n",
      "2013-01-04  0.362863 -0.729515 -0.244917 -1.478310\n",
      "2013-01-05 -0.572564 -0.274823 -1.715368 -0.007437\n",
      "2013-01-06  0.071147 -1.299491  1.653523  1.125381\n",
      "                   A         B\n",
      "2013-01-04  0.362863 -0.729515\n",
      "2013-01-05 -0.572564 -0.274823\n"
     ]
    }
   ],
   "source": [
    "import pandas as pd\n",
    "import numpy as np\n",
    "\n",
    "dates = pd.date_range('20130101', periods=6)\n",
    "df = pd.DataFrame(np.random.randn(6, 4), index=dates, columns=list('ABCD'))\n",
    "print(df)\n",
    "print(df.iloc[3:5, 0:2])"
   ]
  },
  {
   "cell_type": "code",
   "execution_count": 45,
   "id": "4cdde67b",
   "metadata": {},
   "outputs": [
    {
     "name": "stdout",
     "output_type": "stream",
     "text": [
      "1\n",
      "2\n",
      "3\n",
      "4\n"
     ]
    }
   ],
   "source": [
    "for i in range(1,5):\n",
    "    print(i)"
   ]
  },
  {
   "cell_type": "code",
   "execution_count": 50,
   "id": "81dea242",
   "metadata": {},
   "outputs": [
    {
     "name": "stdout",
     "output_type": "stream",
     "text": [
      "<class 'pandas.core.frame.DataFrame'>\n"
     ]
    }
   ],
   "source": [
    "a=df.iloc[1:2,1:2]\n",
    "print(type(df))"
   ]
  },
  {
   "cell_type": "code",
   "execution_count": 51,
   "id": "cbb2ef9a",
   "metadata": {},
   "outputs": [
    {
     "name": "stdout",
     "output_type": "stream",
     "text": [
      "   column_name\n",
      "0            1\n",
      "1            2\n",
      "2            3\n",
      "3            1\n",
      "4            2\n",
      "5            3\n"
     ]
    }
   ],
   "source": [
    "import pandas as pd\n",
    "\n",
    "# 创建包含类型 A、B、C 的列\n",
    "df = pd.DataFrame({'column_name': ['A', 'B', 'C', 'A', 'B', 'C']})\n",
    "\n",
    "# 使用 replace 方法进行映射\n",
    "df['column_name'] = df['column_name'].replace({'A': 1, 'B': 2, 'C': 3})\n",
    "\n",
    "# 打印转换后的 DataFrame\n",
    "print(df)"
   ]
  },
  {
   "cell_type": "code",
   "execution_count": 68,
   "id": "74e0268b",
   "metadata": {},
   "outputs": [
    {
     "name": "stdout",
     "output_type": "stream",
     "text": [
      "                   A         B         C         D\n",
      "2013-01-01  1.140743  1.581185  1.461802 -0.011686\n",
      "2013-01-02  1.240905 -0.038972  0.126328  0.099751\n",
      "2013-01-03 -0.046743  1.033929 -0.719915  0.174735\n",
      "2013-01-04  0.585966  2.913194 -0.123065  0.157037\n",
      "2013-01-05 -0.364586  1.491276 -0.245363 -0.702295\n",
      "2013-01-06  1.836537  0.621763  0.337140 -0.355537\n",
      "                   A         B         C         D\n",
      "2013-01-01  1.140743  1.581185  1.461802 -0.011686\n",
      "2013-01-02  1.240905 -0.038972  0.126328  0.099751\n",
      "2013-01-04  0.585966  2.913194 -0.123065  0.157037\n",
      "2013-01-06  1.836537  0.621763  0.337140 -0.355537\n",
      "                   A         B         C         D\n",
      "2013-01-01  1.140743  1.581185  1.461802 -0.011686\n",
      "2013-01-02  1.240905 -0.038972  0.126328  0.099751\n",
      "2013-01-04  0.585966  2.913194 -0.123065  0.157037\n",
      "2013-01-06  1.836537  0.621763  0.337140 -0.355537\n",
      "                   A         B         C         D\n",
      "2013-01-01  1.140743  1.581185  1.461802 -0.011686\n",
      "2013-01-02  1.240905 -0.038972  0.126328  0.099751\n",
      "2013-01-04  0.585966  2.913194 -0.123065  0.157037\n",
      "2013-01-06  1.836537  0.621763  0.337140 -0.355537\n"
     ]
    }
   ],
   "source": [
    "import pandas as pd\n",
    "import numpy as np\n",
    "\n",
    "dates = pd.date_range('20130101', periods=6)\n",
    "df = pd.DataFrame(np.random.randn(6, 4), index=dates, columns=list('ABCD'))\n",
    "print(df)\n",
    "print(df[df.loc[:,'A'] > 0])\n",
    "print(df[df.A>0])\n",
    "print(df[df['A']>0])"
   ]
  },
  {
   "cell_type": "code",
   "execution_count": 76,
   "id": "719152ac",
   "metadata": {},
   "outputs": [
    {
     "name": "stdout",
     "output_type": "stream",
     "text": [
      "                   A         B         C         D\n",
      "2013-01-01 -1.085631  0.997345  0.282978 -1.506295\n",
      "2013-01-02 -0.578600  1.651437 -2.426679 -0.428913\n",
      "2013-01-03  1.265936 -0.866740 -0.678886 -0.094709\n",
      "2013-01-04  1.491390 -0.638902 -0.443982 -0.434351\n",
      "2013-01-05  2.205930  2.186786  1.004054  0.386186\n",
      "2013-01-06  0.737369  1.490732 -0.935834  1.175829\n",
      "                A      B      C      D\n",
      "2013-01-01  False   True   True  False\n",
      "2013-01-02  False   True  False  False\n",
      "2013-01-03   True  False  False  False\n",
      "2013-01-04   True  False  False  False\n",
      "2013-01-05   True   True   True   True\n",
      "2013-01-06   True   True  False   True\n"
     ]
    }
   ],
   "source": [
    "import pandas as pd\n",
    "import numpy as np\n",
    "np.random.seed(123)\n",
    "dates = pd.date_range('20130101', periods=6)\n",
    "df = pd.DataFrame(np.random.randn(6, 4), index=dates, columns=list('ABCD'))\n",
    "print(df)\n",
    "print( df > 0)"
   ]
  },
  {
   "cell_type": "code",
   "execution_count": 77,
   "id": "842243b6",
   "metadata": {},
   "outputs": [
    {
     "name": "stdout",
     "output_type": "stream",
     "text": [
      "                   A         B         C         D      E\n",
      "2013-01-01 -1.253881 -0.637752  0.907105 -1.428681    one\n",
      "2013-01-02 -0.140069 -0.861755 -0.255619 -2.798589    one\n",
      "2013-01-03 -1.771533 -0.699877  0.927462 -0.173636    two\n",
      "2013-01-04  0.002846  0.688223 -0.879536  0.283627  three\n",
      "2013-01-05 -0.805367 -1.727669 -0.390900  0.573806   four\n",
      "2013-01-06  0.338589 -0.011830  2.392365  0.412912  three\n",
      "                   A         B         C         D     E\n",
      "2013-01-03 -1.771533 -0.699877  0.927462 -0.173636   two\n",
      "2013-01-05 -0.805367 -1.727669 -0.390900  0.573806  four\n"
     ]
    }
   ],
   "source": [
    "import pandas as pd\n",
    "import numpy as np\n",
    "\n",
    "dates = pd.date_range('20130101', periods=6)\n",
    "df = pd.DataFrame(np.random.randn(6, 4), index=dates, columns=list('ABCD'))\n",
    "\n",
    "df2 = df.copy()\n",
    "df2['E'] = ['one', 'one', 'two', 'three', 'four', 'three']\n",
    "\n",
    "print(df2)\n",
    "\n",
    "print(df2[df2['E'].isin(['two', 'four'])])"
   ]
  },
  {
   "cell_type": "code",
   "execution_count": 78,
   "id": "787043d4",
   "metadata": {},
   "outputs": [
    {
     "name": "stdout",
     "output_type": "stream",
     "text": [
      "2013-01-02    1\n",
      "2013-01-03    2\n",
      "2013-01-04    3\n",
      "2013-01-05    4\n",
      "2013-01-06    5\n",
      "2013-01-07    6\n",
      "Freq: D, dtype: int64\n"
     ]
    }
   ],
   "source": [
    "import pandas as pd\n",
    "import numpy as np\n",
    "\n",
    "s1 = pd.Series([1, 2, 3, 4, 5, 6], index=pd.date_range('20130102', periods=6))\n",
    "print(s1)"
   ]
  },
  {
   "cell_type": "code",
   "execution_count": null,
   "id": "0f71964d",
   "metadata": {},
   "outputs": [],
   "source": []
  }
 ],
 "metadata": {
  "kernelspec": {
   "display_name": "Python 3 (ipykernel)",
   "language": "python",
   "name": "python3"
  },
  "language_info": {
   "codemirror_mode": {
    "name": "ipython",
    "version": 3
   },
   "file_extension": ".py",
   "mimetype": "text/x-python",
   "name": "python",
   "nbconvert_exporter": "python",
   "pygments_lexer": "ipython3",
   "version": "3.11.5"
  }
 },
 "nbformat": 4,
 "nbformat_minor": 5
}
